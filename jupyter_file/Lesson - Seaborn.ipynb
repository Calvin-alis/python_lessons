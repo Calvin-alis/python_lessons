{
 "cells": [
  {
   "cell_type": "code",
   "execution_count": 5,
   "id": "2b212866",
   "metadata": {},
   "outputs": [],
   "source": [
    "import pandas as pd\n",
    "import numpy as np\n",
    "import matplotlib.pyplot as plt\n",
    "import seaborn as sns\n",
    "%matplotlib inline"
   ]
  },
  {
   "cell_type": "code",
   "execution_count": null,
   "id": "ad5a5e77",
   "metadata": {},
   "outputs": [],
   "source": []
  },
  {
   "cell_type": "markdown",
   "id": "818f611e",
   "metadata": {},
   "source": [
    "### Diamond Task - Slide 13\n",
    "> 1. Load the “diamonds” dataset from seaborn.\n",
    "> 2. Show the countplot of the ‘cut’ field.\n",
    "> 3. Show the distplot of the ‘price’ field.\n",
    "> 4. Show the boxplot of the price based on cut. Do the\n",
    "results make sense?\n",
    "> 5. Show the violin plot of the size (in carat) based on\n",
    "cut. What information does this add to ex. 4?\n",
    "> 6. Show the same plot as ex. 5, this time split by\n",
    "diamond color.\n",
    "#### sns.get_dataset_names() - check all datasets\n",
    "#### diamond=sns.load_dataset(‘diamonds’, cache=True, data_home=None)  - load diamonds"
   ]
  },
  {
   "cell_type": "code",
   "execution_count": 6,
   "id": "a357d151",
   "metadata": {},
   "outputs": [
    {
     "data": {
      "text/plain": [
       "['anagrams',\n",
       " 'anscombe',\n",
       " 'attention',\n",
       " 'brain_networks',\n",
       " 'car_crashes',\n",
       " 'diamonds',\n",
       " 'dots',\n",
       " 'exercise',\n",
       " 'flights',\n",
       " 'fmri',\n",
       " 'gammas',\n",
       " 'geyser',\n",
       " 'iris',\n",
       " 'mpg',\n",
       " 'penguins',\n",
       " 'planets',\n",
       " 'taxis',\n",
       " 'tips',\n",
       " 'titanic']"
      ]
     },
     "execution_count": 6,
     "metadata": {},
     "output_type": "execute_result"
    }
   ],
   "source": [
    "sns.get_dataset_names()"
   ]
  },
  {
   "cell_type": "code",
   "execution_count": 11,
   "id": "abfea6c6",
   "metadata": {},
   "outputs": [],
   "source": [
    "df_diamond = sns.load_dataset('diamonds')"
   ]
  },
  {
   "cell_type": "code",
   "execution_count": 10,
   "id": "8a2dcdc8",
   "metadata": {},
   "outputs": [
    {
     "data": {
      "text/plain": [
       "carat      0\n",
       "cut        0\n",
       "color      0\n",
       "clarity    0\n",
       "depth      0\n",
       "table      0\n",
       "price      0\n",
       "x          0\n",
       "y          0\n",
       "z          0\n",
       "dtype: int64"
      ]
     },
     "execution_count": 10,
     "metadata": {},
     "output_type": "execute_result"
    }
   ],
   "source": []
  },
  {
   "cell_type": "markdown",
   "id": "129fe7c4",
   "metadata": {},
   "source": [
    "## Slide 17 \n",
    "> 1. Use the same diamonds dataset; filter the dataset\n",
    "only to diamonds of size up to 0.6 carat and price up\n",
    "to $2000.\n",
    "> 2. Show a joint plot between size and price.\n",
    "> 3. Load the “tips” dataset. Show a pairplot of the\n",
    "dataset.\n",
    "> 4. Add a new column for whether the meal was on a\n",
    "weekend or weekday.\n",
    "> 5. Show a pairplot of the dataset split by weekday /\n",
    "weekend.\n"
   ]
  },
  {
   "cell_type": "code",
   "execution_count": null,
   "id": "94387a7c",
   "metadata": {},
   "outputs": [],
   "source": []
  },
  {
   "cell_type": "markdown",
   "id": "8bb9bb6a",
   "metadata": {},
   "source": [
    "### Slide 18 \n",
    "Load the “titanic” dataset from seaborn. Create\n",
    "visualization to answer the following questions:\n",
    "> 1. What is the survival rate?\n",
    "> 2. How many travellers were from each class?\n",
    "> 3. What is the difference in price (“fare”) between classes?\n",
    "> 4. What are the relationships between:\n",
    ">>a. Age and survival?\n",
    ">>b. Gender and survival?\n",
    ">>c. Class and survival?\n"
   ]
  },
  {
   "cell_type": "code",
   "execution_count": null,
   "id": "3605543d",
   "metadata": {},
   "outputs": [],
   "source": []
  },
  {
   "cell_type": "code",
   "execution_count": null,
   "id": "89473028",
   "metadata": {},
   "outputs": [],
   "source": []
  },
  {
   "cell_type": "code",
   "execution_count": null,
   "id": "f61a5c00",
   "metadata": {},
   "outputs": [],
   "source": []
  },
  {
   "cell_type": "code",
   "execution_count": null,
   "id": "193d61a0",
   "metadata": {},
   "outputs": [],
   "source": []
  }
 ],
 "metadata": {
  "kernelspec": {
   "display_name": "Python 3 (ipykernel)",
   "language": "python",
   "name": "python3"
  },
  "language_info": {
   "codemirror_mode": {
    "name": "ipython",
    "version": 3
   },
   "file_extension": ".py",
   "mimetype": "text/x-python",
   "name": "python",
   "nbconvert_exporter": "python",
   "pygments_lexer": "ipython3",
   "version": "3.10.5"
  }
 },
 "nbformat": 4,
 "nbformat_minor": 5
}
