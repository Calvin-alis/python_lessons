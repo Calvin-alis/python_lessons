{
 "cells": [
  {
   "cell_type": "code",
   "execution_count": 8,
   "id": "c45f9263",
   "metadata": {},
   "outputs": [],
   "source": [
    "import pandas as pd\n",
    "import matplotlib as mtl\n",
    "%matplotlib inline"
   ]
  },
  {
   "cell_type": "markdown",
   "id": "b787721f",
   "metadata": {},
   "source": [
    "   ##  Task 1 \n",
    "> Load this dataset of US births between 2000 - 2014.\n",
    ">Show the total number of births per year in a line plot.\n",
    "> [First data set](https://raw.githubusercontent.com/rfordatascience/tidytuesday/master/data/2018/2018-10-02/us_births_2000-2014.csv)"
   ]
  },
  {
   "cell_type": "code",
   "execution_count": 9,
   "id": "ddf3138d",
   "metadata": {},
   "outputs": [],
   "source": [
    "df_1 = pd.read_csv('https://raw.githubusercontent.com/rfordatascience/tidytuesday/master/data/2018/2018-10-02/us_births_2000-2014.csv')"
   ]
  },
  {
   "cell_type": "code",
   "execution_count": null,
   "id": "946ba6f0",
   "metadata": {},
   "outputs": [],
   "source": []
  },
  {
   "cell_type": "markdown",
   "id": "1a3208c7",
   "metadata": {},
   "source": [
    "## Task 2\n",
    "> Load this Broadway Musicals dataset.\n",
    ">> Take only “The Lion King” shows, and plot the scatter of the show runs, using date as the x axis and weekly gross as y axis.\n",
    ">>Color the previous plot by average ticket price.\n",
    ">>Show a scatter describing for each theater:\n",
    ">>The total # of show runs in that theater\n",
    ">>The average weekly gross of runs in the theater\n",
    ">>The theater size (# of seats)\n",
    ">>The average show capacity of shows in the theater\n",
    "\n",
    "> Dowload or use it [Second data set](https://raw.githubusercontent.com/rfordatascience/tidytuesday/master/data/2020/2020-04-28/grosses.csv)\n"
   ]
  },
  {
   "cell_type": "code",
   "execution_count": 10,
   "id": "d6d6aa0a",
   "metadata": {},
   "outputs": [],
   "source": [
    "df_2 = pd.read_csv('https://raw.githubusercontent.com/rfordatascience/tidytuesday/master/data/2020/2020-04-28/grosses.csv')"
   ]
  },
  {
   "cell_type": "code",
   "execution_count": null,
   "id": "c34eff6b",
   "metadata": {},
   "outputs": [],
   "source": []
  },
  {
   "cell_type": "markdown",
   "id": "4e6b72c9",
   "metadata": {},
   "source": [
    "## Task 3\n",
    "> Load this dataset of squirrel sightings in NYC.\n",
    ">Display a heatmap of the latitude and longitude of sightings (even though they refer to angles, for small areas they can be used as coordinates). Use 50 bins on each axis.\n",
    ">Compare the results of a map of Central Park.\n",
    "\n",
    "> Dowload or use [3 data set ]('https://raw.githubusercontent.com/rfordatascience/tidytuesday/master/data/2019/2019-10-29/nyc_squirrels.csv')"
   ]
  },
  {
   "cell_type": "code",
   "execution_count": 13,
   "id": "310b2043",
   "metadata": {},
   "outputs": [],
   "source": [
    "df_3 = pd.read_csv('https://raw.githubusercontent.com/rfordatascience/tidytuesday/master/data/2019/2019-10-29/nyc_squirrels.csv')"
   ]
  },
  {
   "cell_type": "code",
   "execution_count": null,
   "id": "784a0a7b",
   "metadata": {},
   "outputs": [],
   "source": []
  }
 ],
 "metadata": {
  "kernelspec": {
   "display_name": "Python 3 (ipykernel)",
   "language": "python",
   "name": "python3"
  },
  "language_info": {
   "codemirror_mode": {
    "name": "ipython",
    "version": 3
   },
   "file_extension": ".py",
   "mimetype": "text/x-python",
   "name": "python",
   "nbconvert_exporter": "python",
   "pygments_lexer": "ipython3",
   "version": "3.10.5"
  }
 },
 "nbformat": 4,
 "nbformat_minor": 5
}
